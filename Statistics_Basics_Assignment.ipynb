{
  "nbformat": 4,
  "nbformat_minor": 0,
  "metadata": {
    "colab": {
      "provenance": []
    },
    "kernelspec": {
      "name": "python3",
      "display_name": "Python 3"
    },
    "language_info": {
      "name": "python"
    }
  },
  "cells": [
    {
      "cell_type": "code",
      "execution_count": null,
      "metadata": {
        "id": "aQES-FVX2unK"
      },
      "outputs": [],
      "source": []
    },
    {
      "cell_type": "markdown",
      "source": [
        "1. What is the difference between descriptive statistics and inferential\n",
        "statistics? Explain with examples.\n",
        "\n",
        "Descriptive Statistics\n",
        "Definition:\n",
        "Descriptive statistics summarize and describe the features of a dataset. They provide simple summaries about the sample and the measures.\n",
        "\n",
        "Purpose:\n",
        "To organize, summarize, and present data in an informative way.\n",
        "\n",
        "Common Tools:\n",
        "\n",
        "Measures of central tendency: mean, median, mode\n",
        "\n",
        "Measures of dispersion: range, variance, standard deviation\n",
        "\n",
        "Graphs: histograms, bar charts, pie charts\n",
        "\n",
        "Example:\n",
        "Imagine a teacher records the scores of 30 students on a math test.\n",
        "\n",
        "The average score is 75.\n",
        "\n",
        "The highest score is 98.\n",
        "\n",
        "The standard deviation is 10.\n",
        "\n",
        "A bar chart shows how many students fall into each score range.\n",
        "\n",
        "These are all descriptive statistics — they describe the data collected.\n",
        "\n",
        "Inferential Statistics\n",
        "Definition:\n",
        "Inferential statistics make predictions or inferences about a population based on a sample of data.\n",
        "\n",
        "Purpose:\n",
        "To draw conclusions or make decisions about a larger population using data from a sample.\n",
        "\n",
        "Common Tools:\n",
        "\n",
        "Hypothesis testing\n",
        "\n",
        "Confidence intervals\n",
        "\n",
        "Regression analysis\n",
        "\n",
        "ANOVA (Analysis of Variance)\n",
        "\n",
        "Example:\n",
        "A researcher surveys 100 voters to predict the outcome of an election.\n",
        "\n",
        "They find that 60% of the sample supports Candidate A.\n",
        "\n",
        "They use inferential statistics to estimate that around 60% of the entire voting population supports Candidate A.\n",
        "\n",
        "They also calculate a 95% confidence interval, e.g., 60% ± 4%, meaning they are confident the true population support is between 56% and 64%.\n",
        "\n",
        "This is inferential statistics — using a sample to infer something about the entire population.\n",
        "\n"
      ],
      "metadata": {
        "id": "Ey66iUyG2-4l"
      }
    },
    {
      "cell_type": "markdown",
      "source": [
        "2. What is sampling in statistics? Explain the differences between random\n",
        "and stratified sampling.\n",
        "\n",
        "Sampling is the process of selecting a subset (sample) from a larger group (population) in order to analyze and make inferences about the whole population without studying every member of it.\n",
        "\n",
        "This approach is used because studying an entire population is often impractical due to time, cost, or accessibility constraints.\n",
        "\n",
        "Key Terms:\n",
        "Population: The complete group you want to study (e.g., all high school students in a country).\n",
        "\n",
        "Sample: A portion of the population selected for analysis (e.g., 500 students from different schools).\n",
        "\n",
        "Sampling method: The way the sample is chosen.\n",
        "\n",
        "Random Sampling\n",
        "Definition:\n",
        "Random sampling is a method where each member of the population has an equal chance of being selected.\n",
        "\n",
        "How it works:\n",
        "\n",
        "Use a random number generator or draw names from a hat.\n",
        "\n",
        "No bias in selection.\n",
        "\n",
        "Example:\n",
        "A researcher wants to survey 100 students from a university of 10,000. They assign each student a number and randomly pick 100 using a computer.\n",
        "\n",
        "Advantages:\n",
        "\n",
        "Simple to implement.\n",
        "\n",
        "Reduces selection bias.\n",
        "\n",
        "Disadvantages:\n",
        "\n",
        "Might not represent subgroups (e.g., gender, age, major) well by chance alone.\n",
        "\n",
        "Stratified Sampling\n",
        "Definition:\n",
        "Stratified sampling divides the population into distinct subgroups (strata) based on a specific characteristic (e.g., age, gender, income), and then randomly samples from each subgroup proportionally.\n",
        "\n",
        "How it works:\n",
        "\n",
        "Divide population into strata (e.g., males and females).\n",
        "\n",
        "Randomly select a proportional sample from each stratum.\n",
        "\n",
        "Example:\n",
        "A researcher wants to sample 200 people from a city where 60% are urban and 40% are rural residents. They:\n",
        "\n",
        "Divide the population into two groups (urban and rural).\n",
        "\n",
        "Randomly pick 120 from urban and 80 from rural residents.\n",
        "\n",
        "Advantages:\n",
        "\n",
        "Ensures representation of key subgroups.\n",
        "\n",
        "Increases accuracy of estimates.\n",
        "\n",
        "Disadvantages:\n",
        "\n",
        "More complex to implement.\n",
        "\n",
        "Requires knowledge of population structure."
      ],
      "metadata": {
        "id": "BIvZ47it36PF"
      }
    },
    {
      "cell_type": "markdown",
      "source": [
        "3. Define mean, median, and mode. Explain why these measures of central\n",
        "tendency are important.\n",
        "\n",
        "Mean (Average)\n",
        "Definition:\n",
        "The mean is the sum of all values divided by the number of values.\n",
        "\n",
        "Formula:\n",
        "\n",
        "Mean\n",
        "=\n",
        "∑\n",
        "𝑥\n",
        "𝑛\n",
        "Mean=\n",
        "n\n",
        "∑x\n",
        "​\n",
        "\n",
        "Where:\n",
        "\n",
        "∑\n",
        "𝑥\n",
        "∑x is the sum of all data values.\n",
        "\n",
        "𝑛\n",
        "n is the number of data points.\n",
        "\n",
        "Example:\n",
        "For the numbers: 4, 6, 8, 10\n",
        "\n",
        "Mean\n",
        "=\n",
        "(4\n",
        "+\n",
        "6\n",
        "+\n",
        "8\n",
        "+\n",
        "10)/\n",
        "4\n",
        "=\n",
        "28/4\n",
        "4\n",
        "=\n",
        "7\n",
        "Mean=\n",
        "4\n",
        "4+6+8+10\n",
        "​\n",
        " =\n",
        "4\n",
        "28\n",
        "​\n",
        " =7\n",
        "Median\n",
        "Definition:\n",
        "The median is the middle value in an ordered dataset. If the number of values is even, it is the average of the two middle numbers.\n",
        "\n",
        "Steps:\n",
        "\n",
        "Arrange the numbers in ascending order.\n",
        "\n",
        "Find the middle value.\n",
        "\n",
        "Example:\n",
        "\n",
        "For 3, 5, 7 → Median = 5 (middle number)\n",
        "\n",
        "For 2, 4, 6, 8 → Median = (4 + 6)/2 = 5\n",
        "\n",
        "Mode\n",
        "Definition:\n",
        "The mode is the value that appears most frequently in a dataset.\n",
        "\n",
        "Example:\n",
        "In the dataset: 2, 4, 4, 6, 8 → Mode = 4\n",
        "If no number repeats, there is no mode.\n",
        "If multiple values repeat equally, the data is multimodal."
      ],
      "metadata": {
        "id": "HfGS3Rw44LBe"
      }
    },
    {
      "cell_type": "markdown",
      "source": [
        "4. Explain skewness and kurtosis. What does a positive skew imply about the\n",
        "data?\n",
        "\n",
        "\n",
        "Skewness measures the asymmetry of a data distribution.\n",
        "\n",
        "Symmetrical data has zero skewness.\n",
        "\n",
        "Skewness > 0: Positively skewed (tail on the right).\n",
        "\n",
        "Skewness < 0: Negatively skewed (tail on the left).\n",
        "\n",
        "What does a positive skew imply?\n",
        "A positive skew (right-skewed) implies that:\n",
        "\n",
        "The right tail (higher values) is longer than the left.\n",
        "\n",
        "Most data values are clustered on the left, with a few very high values pulling the mean to the right.\n",
        "\n",
        "Typically:\n",
        "\n",
        "Mean\n",
        ">\n",
        "Median\n",
        ">\n",
        "Mode\n",
        "Mean>Median>Mode\n",
        "Example:\n",
        "Income distribution is often positively skewed — many people earn moderate wages, while a few earn very high salaries.\n",
        "\n",
        "Kurtosis\n",
        "Definition:\n",
        "Kurtosis measures the \"tailedness\" or peakedness of a distribution compared to a normal distribution.\n",
        "\n",
        "Normal distribution has a kurtosis of 3 (often excess kurtosis is reported: 0 for normal).\n",
        "\n",
        "It tells how much of the variance is due to extreme values (outliers)"
      ],
      "metadata": {
        "id": "f9qcLn7J4qKM"
      }
    },
    {
      "cell_type": "markdown",
      "source": [],
      "metadata": {
        "id": "0GH3NQa429yi"
      }
    },
    {
      "cell_type": "code",
      "source": [
        "import statistics\n",
        "\n",
        "# Given list of numbers\n",
        "numbers = [12, 15, 12, 18, 19, 12, 20, 22, 19, 19, 24, 24, 24, 26, 28]\n",
        "\n",
        "# Compute mean\n",
        "mean = statistics.mean(numbers)\n",
        "\n",
        "# Compute median\n",
        "median = statistics.median(numbers)\n",
        "\n",
        "# Compute mode\n",
        "mode = statistics.mode(numbers)\n",
        "\n",
        "# Display the results\n",
        "print(\"Mean:\", mean)\n",
        "print(\"Median:\", median)\n",
        "print(\"Mode:\", mode)\n",
        "\n",
        "#output\n",
        "#Mean: 19.6\n",
        "#Median: 19\n",
        "#Mode: 12\n"
      ],
      "metadata": {
        "colab": {
          "base_uri": "https://localhost:8080/"
        },
        "id": "wlES0Z-s5peF",
        "outputId": "d45cb935-3ba9-4dac-c17f-78bb3e33f676"
      },
      "execution_count": 1,
      "outputs": [
        {
          "output_type": "stream",
          "name": "stdout",
          "text": [
            "Mean: 19.6\n",
            "Median: 19\n",
            "Mode: 12\n"
          ]
        }
      ]
    },
    {
      "cell_type": "code",
      "source": [
        "import statistics\n",
        "\n",
        "# Given data\n",
        "list_x = [10, 20, 30, 40, 50]\n",
        "list_y = [15, 25, 35, 45, 60]\n",
        "\n",
        "# Calculate means\n",
        "mean_x = statistics.mean(list_x)\n",
        "mean_y = statistics.mean(list_y)\n",
        "\n",
        "# Calculate covariance manually\n",
        "cov_xy = sum((x - mean_x) * (y - mean_y) for x, y in zip(list_x, list_y)) / (len(list_x) - 1)\n",
        "\n",
        "# Calculate standard deviations\n",
        "std_x = statistics.stdev(list_x)\n",
        "std_y = statistics.stdev(list_y)\n",
        "\n",
        "# Calculate correlation coefficient\n",
        "correlation = cov_xy / (std_x * std_y)\n",
        "\n",
        "# Display results\n",
        "print(\"Covariance:\", cov_xy)\n",
        "print(\"Correlation Coefficient:\", correlation)\n",
        "\n",
        "#output\n",
        "#Covariance: 225.0\n",
        "#Correlation Coefficient: 0.9912407071619302\n"
      ],
      "metadata": {
        "colab": {
          "base_uri": "https://localhost:8080/"
        },
        "id": "zcDzG0mi6NHY",
        "outputId": "de43e733-9990-4667-8014-5b2052bf5525"
      },
      "execution_count": 2,
      "outputs": [
        {
          "output_type": "stream",
          "name": "stdout",
          "text": [
            "Covariance: 275.0\n",
            "Correlation Coefficient: 0.9958932064677041\n"
          ]
        }
      ]
    },
    {
      "cell_type": "code",
      "source": [
        "import matplotlib.pyplot as plt\n",
        "import seaborn as sns\n",
        "import numpy as np\n",
        "\n",
        "# Given data\n",
        "data = [12, 14, 14, 15, 18, 19, 19, 21, 22, 22, 23, 23, 24, 26, 29, 35]\n",
        "\n",
        "# Plot boxplot\n",
        "plt.figure(figsize=(8, 4))\n",
        "sns.boxplot(x=data, color=\"skyblue\")\n",
        "plt.title(\"Boxplot of Data\")\n",
        "plt.xlabel(\"Values\")\n",
        "plt.grid(True)\n",
        "plt.show()\n",
        "\n",
        "# Calculate Q1, Q3, and IQR\n",
        "q1 = np.percentile(data, 25)\n",
        "q3 = np.percentile(data, 75)\n",
        "iqr = q3 - q1\n",
        "\n",
        "# Calculate outlier bounds\n",
        "lower_bound = q1 - 1.5 * iqr\n",
        "upper_bound = q3 + 1.5 * iqr\n",
        "\n",
        "# Identify outliers\n",
        "outliers = [x for x in data if x < lower_bound or x > upper_bound]\n",
        "\n",
        "# Print the results\n",
        "print(f\"Q1 (25th percentile): {q1}\")\n",
        "print(f\"Q3 (75th percentile): {q3}\")\n",
        "print(f\"IQR (Q3 - Q1): {iqr}\")\n",
        "print(f\"Lower bound: {lower_bound}\")\n",
        "print(f\"Upper bound: {upper_bound}\")\n",
        "print(f\"Outliers: {outliers}\")\n",
        "\n",
        "#output\n",
        "#Q1 (25th percentile) ≈ 18.25\n",
        "\n",
        "#Q3 (75th percentile) ≈ 24.75\n",
        "\n",
        "#IQR = 24.75 − 18.25 = 6.5\n",
        "\n",
        "#Lower Bound = Q1 − 1.5×IQR = 18.25 − 9.75 = 8.5\n",
        "\n",
        "#Upper Bound = Q3 + 1.5×IQR = 24.75 + 9.75 = 34.5\n",
        "\n",
        "#Any value < 8.5 or > 34.5 is considered an outlier"
      ],
      "metadata": {
        "colab": {
          "base_uri": "https://localhost:8080/",
          "height": 514
        },
        "id": "hHhM2y9H6aK8",
        "outputId": "9b37cda6-6c68-47cd-ef71-818794cc768e"
      },
      "execution_count": 3,
      "outputs": [
        {
          "output_type": "display_data",
          "data": {
            "text/plain": [
              "<Figure size 800x400 with 1 Axes>"
            ],
            "image/png": "[encoded data removed]"
          },
          "metadata": {}
        },
        {
          "output_type": "stream",
          "name": "stdout",
          "text": [
            "Q1 (25th percentile): 17.25\n",
            "Q3 (75th percentile): 23.25\n",
            "IQR (Q3 - Q1): 6.0\n",
            "Lower bound: 8.25\n",
            "Upper bound: 32.25\n",
            "Outliers: [35]\n"
          ]
        }
      ]
    },
    {
      "cell_type": "code",
      "source": [
        "import numpy as np\n",
        "import statistics\n",
        "\n",
        "# Given data\n",
        "advertising_spend = [200, 250, 300, 400, 500]\n",
        "daily_sales = [2200, 2450, 2750, 3200, 4000]\n",
        "\n",
        "# Compute means\n",
        "mean_ad = statistics.mean(advertising_spend)\n",
        "mean_sales = statistics.mean(daily_sales)\n",
        "\n",
        "# Compute covariance manually\n",
        "cov = sum((a - mean_ad) * (s - mean_sales) for a, s in zip(advertising_spend, daily_sales)) / (len(advertising_spend) - 1)\n",
        "\n",
        "# Compute standard deviations\n",
        "std_ad = statistics.stdev(advertising_spend)\n",
        "std_sales = statistics.stdev(daily_sales)\n",
        "\n",
        "# Compute correlation coefficient\n",
        "correlation = cov / (std_ad * std_sales)\n",
        "\n",
        "# Alternatively, use numpy for correlation\n",
        "corr_matrix = np.corrcoef(advertising_spend, daily_sales)\n",
        "np_correlation = corr_matrix[0, 1]\n",
        "\n",
        "# Display results\n",
        "print(\"Covariance:\", cov)\n",
        "print(\"Correlation (manual):\", correlation)\n",
        "print(\"Correlation (numpy):\", np_correlation)\n",
        "\n",
        "#output\n",
        "#Covariance: 112500.0\n",
        "#Correlation (manual): 0.9975\n",
        "#Correlation (numpy): 0.9975"
      ],
      "metadata": {
        "colab": {
          "base_uri": "https://localhost:8080/"
        },
        "id": "KSWNFNQE7F5H",
        "outputId": "19404f4d-a93d-420a-c5fb-6ec285b17481"
      },
      "execution_count": 4,
      "outputs": [
        {
          "output_type": "stream",
          "name": "stdout",
          "text": [
            "Covariance: 84875.0\n",
            "Correlation (manual): 0.9935824101653329\n",
            "Correlation (numpy): 0.9935824101653329\n"
          ]
        }
      ]
    },
    {
      "cell_type": "markdown",
      "source": [
        "As a data analyst, we can use covariance and correlation to explore whether advertising spend is related to daily sales.\n",
        "\n",
        "1. Covariance\n",
        "What it shows: Whether two variables change together.\n",
        "\n",
        "Interpretation:\n",
        "\n",
        "Positive covariance → When advertising increases, sales tend to increase.\n",
        "\n",
        "Negative covariance → When advertising increases, sales tend to decrease.\n",
        "\n",
        "Zero covariance → No consistent relationship.\n",
        "\n",
        "❗ Limitation: Covariance doesn’t show strength of the relationship and is affected by units of measurement.\n",
        "\n",
        "2. Correlation Coefficient\n",
        "What it shows: The strength and direction of a linear relationship between two variables.\n",
        "\n",
        "Value range: From –1 to +1\n",
        "\n",
        "+1 → Perfect positive relationship\n",
        "\n",
        "0 → No linear relationship\n",
        "\n",
        "–1 → Perfect negative relationship\n",
        "Advantage: Standardized and unit-free, making it easy to interpret.\n",
        "\n"
      ],
      "metadata": {
        "id": "2mCBMN1K7NQD"
      }
    },
    {
      "cell_type": "code",
      "source": [
        "import matplotlib.pyplot as plt\n",
        "\n",
        "# Survey data\n",
        "survey_scores = [7, 8, 5, 9, 6, 7, 8, 9, 10, 4, 7, 6, 9, 8, 7]\n",
        "\n",
        "# Create histogram\n",
        "plt.figure(figsize=(8, 5))\n",
        "plt.hist(survey_scores, bins=7, color='skyblue', edgecolor='black')\n",
        "plt.title('Customer Satisfaction Score Distribution')\n",
        "plt.xlabel('Satisfaction Score (1–10)')\n",
        "plt.ylabel('Number of Customers')\n",
        "plt.grid(axis='y', linestyle='--', alpha=0.7)\n",
        "plt.xticks(range(1, 11))\n",
        "plt.show()\n"
      ],
      "metadata": {
        "colab": {
          "base_uri": "https://localhost:8080/",
          "height": 487
        },
        "id": "2dGgynVj7uPx",
        "outputId": "97d2a622-c15d-4db2-a31e-1c324fd9a8c0"
      },
      "execution_count": 5,
      "outputs": [
        {
          "output_type": "display_data",
          "data": {
            "text/plain": [
              "<Figure size 800x500 with 1 Axes>"
            ],
            "image/png": "[encoded data removed]"
          },
          "metadata": {}
        }
      ]
    },
    {
      "cell_type": "markdown",
      "source": [
        "To understand the distribution of survey data before launching a new product, you should use a combination of summary statistics and visualizations.\n",
        "\n",
        "Summary Statistics to Use:\n",
        "Mean (Average)\n",
        "\n",
        "Shows the average satisfaction level.\n",
        "\n",
        "Median\n",
        "\n",
        "Indicates the middle score, helpful when data is skewed.\n",
        "\n",
        "Mode\n",
        "\n",
        "Reveals the most common score.\n",
        "\n",
        "Standard Deviation\n",
        "\n",
        "Tells how spread out the scores are.\n",
        "\n",
        "Low SD → customers agree; High SD → mixed opinions.\n",
        "\n",
        "Minimum and Maximum\n",
        "\n",
        "Show the range of satisfaction.\n",
        "\n",
        "Visualizations to Use:\n",
        "Histogram\n",
        "\n",
        "Shows the frequency distribution of satisfaction scores.\n",
        "\n",
        "Helps identify skewness, peaks, and spread.\n",
        "\n",
        "Boxplot\n",
        "\n",
        "Highlights median, quartiles, and outliers."
      ],
      "metadata": {
        "id": "d8fuRAtQ73zI"
      }
    }
  ]
}